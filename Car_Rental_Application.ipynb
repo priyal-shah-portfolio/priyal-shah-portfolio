{
  "cells": [
    {
      "cell_type": "markdown",
      "metadata": {
        "id": "view-in-github",
        "colab_type": "text"
      },
      "source": [
        "<a href=\"https://colab.research.google.com/github/priyal-shah-portfolio/priyal-shah-portfolio/blob/main/Car_Rental_Application.ipynb\" target=\"_parent\"><img src=\"https://colab.research.google.com/assets/colab-badge.svg\" alt=\"Open In Colab\"/></a>"
      ]
    },
    {
      "cell_type": "code",
      "execution_count": 1,
      "id": "243f0ce8",
      "metadata": {
        "id": "243f0ce8"
      },
      "outputs": [],
      "source": [
        "from datetime import datetime\n",
        "\n",
        "class Rate:\n",
        "    def __init__(self, hourly, daliy, weekly):\n",
        "        self.hourly = hourly\n",
        "        self.daliy = daliy\n",
        "        self.weekly = weekly\n",
        "\n",
        "class Car:\n",
        "    def __init__(self, rate: Rate, car_plate_number: str):\n",
        "        self.rate = rate\n",
        "        self.car_plate_number = car_plate_number\n",
        "        self.bookings = []\n",
        "\n",
        "    def get_rate(self):\n",
        "        return self.rate\n",
        "\n",
        "    def is_available(self, pickup_time: datetime , drop_off_time: datetime):\n",
        "        for booking in self.bookings:\n",
        "            booking_pickup_time = booking.pickup_time\n",
        "            booking_drop_off_time = booking.drop_off_time\n",
        "            if pickup_time < booking_drop_off_time and drop_off_time > booking_pickup_time:\n",
        "                return False\n",
        "        return True\n",
        "\n",
        "def get_pick_up_time(customer_license_number: str, car: Car):\n",
        "    for booking in car.bookings:\n",
        "        if customer_license_number == booking.customer_license_number:\n",
        "            return booking.pickup_time\n",
        "    raise Exception(f\"No pick up time found for customer: {customer_license_number} car: {car.car_plate_number}\")\n",
        "\n",
        "class Bill:\n",
        "    def __init__(self, customer_license_number: str, car: Car, drop_off_time: datetime):\n",
        "        self.customer_license_number = customer_license_number\n",
        "        self.car_plate_number= car.car_plate_number\n",
        "        self.rate = car.get_rate()\n",
        "        self.drop_off_time = drop_off_time\n",
        "        self.pickup_time = get_pick_up_time(customer_license_number, car)\n",
        "        self.duration = self.drop_off_time - self.pickup_time\n",
        "        total_days = self.duration.days\n",
        "        week = int(total_days/7)\n",
        "        days = int(total_days) - (week *7)\n",
        "        hours = self.duration.seconds//3600\n",
        "        self.price = self.rate.weekly*(week) + self.rate.daliy*(days) + self.rate.hourly*(hours)\n",
        "\n",
        "\n",
        "class Booking:\n",
        "    def __init__(self, pickup_time: datetime, drop_off_time: datetime, customer_license_number: str):\n",
        "        self.pickup_time = pickup_time\n",
        "        self.drop_off_time = drop_off_time\n",
        "        self.customer_license_number = customer_license_number\n",
        "\n",
        "class Customer:\n",
        "     def __init__(self, customer_license_number: str):\n",
        "            self.customer_license_number = customer_license_number\n",
        "\n",
        "class Inventory:\n",
        "    def __init__(self, cars: list):\n",
        "        self.cars = cars\n",
        "\n",
        "    def get_all_cars(self):\n",
        "        return self.cars.values()\n",
        "\n",
        "    def get_car(self, car_plate_number: str):\n",
        "        if car_plate_number in self.cars.keys():\n",
        "            return self.cars.get(car_plate_number)\n",
        "        raise Exception(f\"Get_car: No car exists: {car_plate_number}\")\n",
        "\n",
        "    def update_car(self, car: Car):\n",
        "        if car.car_plate_number in self.cars.keys():\n",
        "            self.cars[car.car_plate_number] = car\n",
        "            return\n",
        "        raise Exception(f\"Update_car: No car exists: {car.car_plate_number}\")\n",
        "\n",
        "\n",
        "class BookingCarSystem:\n",
        "    def __init__(self, inventory: Inventory):\n",
        "        self.inventory=inventory\n",
        "\n",
        "    def show_available_cars(self, pickup_time: datetime, drop_off_time: datetime):\n",
        "        cars = list(self.inventory.get_all_cars())\n",
        "        available_cars = []\n",
        "        for car in cars:\n",
        "            if car.is_available(pickup_time, drop_off_time):\n",
        "                available_cars += [car.car_plate_number]\n",
        "        return available_cars\n",
        "\n",
        "    def book_a_car(self, pickup_time: datetime, drop_off_time: datetime, customer_license_number: str, car_plate_number: str):\n",
        "        try:\n",
        "            car = self.inventory.get_car(car_plate_number)\n",
        "            if car.is_available(pickup_time, drop_off_time):\n",
        "                booking = Booking(pickup_time, drop_off_time, customer_license_number)\n",
        "                car.bookings.append(booking)\n",
        "                self.inventory.update_car(car)\n",
        "                return f'Your booking is done Pickup: {booking.pickup_time} Dropoff: {booking.drop_off_time} License no: {car_plate_number}'\n",
        "            else:\n",
        "                return f\"car {car_plate_number} not available for Pickup: {pickup_time} Dropoff: {drop_off_time}\"\n",
        "        except Exception as e:\n",
        "            print(f\"An exception occurred: {str(e)}\")\n",
        "\n",
        "\n",
        "    def return_a_car(self, car_plate_number: str, customer_license_number: str, drop_off_time: datetime):\n",
        "        try:\n",
        "            car = self.inventory.get_car(car_plate_number)\n",
        "            bill = Bill(customer_license_number, car, drop_off_time)\n",
        "            return f\"You have been charged {bill.price} for booking {bill.car_plate_number}\"\n",
        "        except Exception as e:\n",
        "            print(f\"An exception occurred: {str(e)}\")"
      ]
    },
    {
      "cell_type": "code",
      "execution_count": 2,
      "id": "65ae7acb",
      "metadata": {
        "id": "65ae7acb",
        "outputId": "d83b3418-09f8-4246-be38-0f72aeffdc7f",
        "colab": {
          "base_uri": "https://localhost:8080/"
        }
      },
      "outputs": [
        {
          "output_type": "execute_result",
          "data": {
            "text/plain": [
              "['7853A', '7564']"
            ]
          },
          "metadata": {},
          "execution_count": 2
        }
      ],
      "source": [
        "rate = Rate(14,52,200)\n",
        "car2 = Car(rate, '7853A')\n",
        "car1 = Car(rate, '7564')\n",
        "cars = {'7853A': car2, '7564': car1}\n",
        "inventory = Inventory(cars)\n",
        "customer = [78653]\n",
        "inventory.get_all_cars()\n",
        "inventory.get_car('7853A')\n",
        "booking_system = BookingCarSystem(inventory)\n",
        "\n",
        "pickuptime = datetime(2023,10,29)\n",
        "dropoff = datetime(2023,10,31)\n",
        "\n",
        "booking_system.show_available_cars(pickuptime, dropoff)"
      ]
    },
    {
      "cell_type": "code",
      "execution_count": 3,
      "id": "5f8633e7",
      "metadata": {
        "id": "5f8633e7",
        "outputId": "7f9e8215-be1a-4866-fd4e-e5e9df06bc43",
        "colab": {
          "base_uri": "https://localhost:8080/",
          "height": 35
        }
      },
      "outputs": [
        {
          "output_type": "execute_result",
          "data": {
            "text/plain": [
              "'Your booking is done Pickup: 2023-10-29 00:00:00 Dropoff: 2023-10-31 00:00:00 License no: 7564'"
            ],
            "application/vnd.google.colaboratory.intrinsic+json": {
              "type": "string"
            }
          },
          "metadata": {},
          "execution_count": 3
        }
      ],
      "source": [
        "booking_system.book_a_car(pickuptime, dropoff, 78653, '7564')"
      ]
    },
    {
      "cell_type": "code",
      "execution_count": 4,
      "id": "2a077e3b",
      "metadata": {
        "scrolled": false,
        "id": "2a077e3b",
        "outputId": "becc0ae0-b4bd-456f-9312-57c9e6bd7e25",
        "colab": {
          "base_uri": "https://localhost:8080/",
          "height": 35
        }
      },
      "outputs": [
        {
          "output_type": "execute_result",
          "data": {
            "text/plain": [
              "'You have been charged 104 for booking 7564'"
            ],
            "application/vnd.google.colaboratory.intrinsic+json": {
              "type": "string"
            }
          },
          "metadata": {},
          "execution_count": 4
        }
      ],
      "source": [
        "dropoff_time = datetime(2023,10,31)\n",
        "\n",
        "booking_system.return_a_car('7564', 78653, dropoff_time)"
      ]
    },
    {
      "cell_type": "code",
      "execution_count": 4,
      "id": "9b52c074",
      "metadata": {
        "id": "9b52c074"
      },
      "outputs": [],
      "source": []
    },
    {
      "cell_type": "code",
      "execution_count": 4,
      "id": "7f94ef76",
      "metadata": {
        "id": "7f94ef76"
      },
      "outputs": [],
      "source": []
    },
    {
      "cell_type": "code",
      "execution_count": 4,
      "id": "d06545ca",
      "metadata": {
        "id": "d06545ca"
      },
      "outputs": [],
      "source": []
    }
  ],
  "metadata": {
    "kernelspec": {
      "display_name": "Python 3 (ipykernel)",
      "language": "python",
      "name": "python3"
    },
    "language_info": {
      "codemirror_mode": {
        "name": "ipython",
        "version": 3
      },
      "file_extension": ".py",
      "mimetype": "text/x-python",
      "name": "python",
      "nbconvert_exporter": "python",
      "pygments_lexer": "ipython3",
      "version": "3.9.7"
    },
    "colab": {
      "provenance": [],
      "include_colab_link": true
    }
  },
  "nbformat": 4,
  "nbformat_minor": 5
}